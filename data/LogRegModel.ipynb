{
 "cells": [
  {
   "cell_type": "code",
   "execution_count": 20,
   "metadata": {},
   "outputs": [],
   "source": [
    "import numpy as np\n",
    "import matplotlib.pyplot as plt\n",
    "from matplotlib import pylab as pl\n",
    "import pandas as pd\n",
    "import seaborn as sns\n",
    "\n",
    "from sklearn.preprocessing import StandardScaler\n",
    "from sklearn.model_selection import train_test_split, cross_val_score\n",
    "from sklearn.linear_model import LogisticRegressionCV\n",
    "from sklearn.metrics import classification_report, confusion_matrix, roc_auc_score, roc_curve"
   ]
  },
  {
   "cell_type": "code",
   "execution_count": 2,
   "metadata": {},
   "outputs": [
    {
     "data": {
      "text/html": [
       "<div>\n",
       "<style scoped>\n",
       "    .dataframe tbody tr th:only-of-type {\n",
       "        vertical-align: middle;\n",
       "    }\n",
       "\n",
       "    .dataframe tbody tr th {\n",
       "        vertical-align: top;\n",
       "    }\n",
       "\n",
       "    .dataframe thead th {\n",
       "        text-align: right;\n",
       "    }\n",
       "</style>\n",
       "<table border=\"1\" class=\"dataframe\">\n",
       "  <thead>\n",
       "    <tr style=\"text-align: right;\">\n",
       "      <th></th>\n",
       "      <th>Artists</th>\n",
       "      <th>Moods</th>\n",
       "      <th>Names</th>\n",
       "      <th>Track IDs</th>\n",
       "      <th>Loudness</th>\n",
       "      <th>Instrumentalness</th>\n",
       "      <th>Modality</th>\n",
       "      <th>Speechiness</th>\n",
       "      <th>Energy</th>\n",
       "      <th>Tempo</th>\n",
       "      <th>Valence</th>\n",
       "    </tr>\n",
       "  </thead>\n",
       "  <tbody>\n",
       "    <tr>\n",
       "      <th>0</th>\n",
       "      <td>Lauv</td>\n",
       "      <td>sad</td>\n",
       "      <td>fuck, i'm lonely (with Anne-Marie) - from “13 ...</td>\n",
       "      <td>322tcqPhma7F6hfCeLisx0</td>\n",
       "      <td>-6.460</td>\n",
       "      <td>0.000000</td>\n",
       "      <td>1</td>\n",
       "      <td>0.0683</td>\n",
       "      <td>0.558</td>\n",
       "      <td>95.016</td>\n",
       "      <td>0.678</td>\n",
       "    </tr>\n",
       "    <tr>\n",
       "      <th>1</th>\n",
       "      <td>Sabrina Carpenter</td>\n",
       "      <td>sad</td>\n",
       "      <td>In My Bed</td>\n",
       "      <td>2o0KMNhcw5KO7CuslvR4Xs</td>\n",
       "      <td>-6.024</td>\n",
       "      <td>0.002290</td>\n",
       "      <td>0</td>\n",
       "      <td>0.0950</td>\n",
       "      <td>0.385</td>\n",
       "      <td>109.046</td>\n",
       "      <td>0.666</td>\n",
       "    </tr>\n",
       "    <tr>\n",
       "      <th>2</th>\n",
       "      <td>Bea Miller</td>\n",
       "      <td>sad</td>\n",
       "      <td>feel something</td>\n",
       "      <td>7JDWhC422Gtk1Bq0mL3OTC</td>\n",
       "      <td>-8.914</td>\n",
       "      <td>0.000156</td>\n",
       "      <td>1</td>\n",
       "      <td>0.0707</td>\n",
       "      <td>0.415</td>\n",
       "      <td>136.029</td>\n",
       "      <td>0.156</td>\n",
       "    </tr>\n",
       "    <tr>\n",
       "      <th>3</th>\n",
       "      <td>MUNA</td>\n",
       "      <td>sad</td>\n",
       "      <td>Who</td>\n",
       "      <td>0qTBo7ExHHGI7RLCk3CwDS</td>\n",
       "      <td>-5.770</td>\n",
       "      <td>0.000272</td>\n",
       "      <td>0</td>\n",
       "      <td>0.0514</td>\n",
       "      <td>0.667</td>\n",
       "      <td>150.093</td>\n",
       "      <td>0.219</td>\n",
       "    </tr>\n",
       "    <tr>\n",
       "      <th>4</th>\n",
       "      <td>Why Don't We</td>\n",
       "      <td>sad</td>\n",
       "      <td>8 Letters</td>\n",
       "      <td>4zRZAmBQP8vhNPf9i9opXt</td>\n",
       "      <td>-5.702</td>\n",
       "      <td>0.000000</td>\n",
       "      <td>0</td>\n",
       "      <td>0.0310</td>\n",
       "      <td>0.478</td>\n",
       "      <td>88.979</td>\n",
       "      <td>0.255</td>\n",
       "    </tr>\n",
       "  </tbody>\n",
       "</table>\n",
       "</div>"
      ],
      "text/plain": [
       "             Artists Moods                                              Names  \\\n",
       "0               Lauv   sad  fuck, i'm lonely (with Anne-Marie) - from “13 ...   \n",
       "1  Sabrina Carpenter   sad                                          In My Bed   \n",
       "2         Bea Miller   sad                                     feel something   \n",
       "3               MUNA   sad                                                Who   \n",
       "4       Why Don't We   sad                                          8 Letters   \n",
       "\n",
       "                Track IDs  Loudness  Instrumentalness  Modality  Speechiness  \\\n",
       "0  322tcqPhma7F6hfCeLisx0    -6.460          0.000000         1       0.0683   \n",
       "1  2o0KMNhcw5KO7CuslvR4Xs    -6.024          0.002290         0       0.0950   \n",
       "2  7JDWhC422Gtk1Bq0mL3OTC    -8.914          0.000156         1       0.0707   \n",
       "3  0qTBo7ExHHGI7RLCk3CwDS    -5.770          0.000272         0       0.0514   \n",
       "4  4zRZAmBQP8vhNPf9i9opXt    -5.702          0.000000         0       0.0310   \n",
       "\n",
       "   Energy    Tempo  Valence  \n",
       "0   0.558   95.016    0.678  \n",
       "1   0.385  109.046    0.666  \n",
       "2   0.415  136.029    0.156  \n",
       "3   0.667  150.093    0.219  \n",
       "4   0.478   88.979    0.255  "
      ]
     },
     "execution_count": 2,
     "metadata": {},
     "output_type": "execute_result"
    }
   ],
   "source": [
    "df = pd.read_csv('track_data.csv', index_col=0)\n",
    "\n",
    "df.drop_duplicates(subset=['Track IDs'], keep='first', inplace=True)\n",
    "\n",
    "df.head()"
   ]
  },
  {
   "cell_type": "code",
   "execution_count": 25,
   "metadata": {},
   "outputs": [],
   "source": [
    "X = df.iloc[:, 4:].values\n",
    "y = df.iloc[:, 1].values\n",
    "\n",
    "X_train, X_test, y_train, y_test = train_test_split(X, y, test_size=0.20)"
   ]
  },
  {
   "cell_type": "code",
   "execution_count": 10,
   "metadata": {},
   "outputs": [],
   "source": [
    "scaler = StandardScaler()\n",
    "scaler.fit(X_train)\n",
    "\n",
    "X_train = scaler.transform(X_train)\n",
    "X_test = scaler.transform(X_test)"
   ]
  },
  {
   "cell_type": "code",
   "execution_count": 17,
   "metadata": {},
   "outputs": [
    {
     "data": {
      "text/plain": [
       "LogisticRegressionCV(Cs=[100000, 200000, 300000], class_weight=None, cv=3,\n",
       "                     dual=False, fit_intercept=True, intercept_scaling=1.0,\n",
       "                     l1_ratios=None, max_iter=100, multi_class='warn',\n",
       "                     n_jobs=None, penalty='l2', random_state=None, refit=True,\n",
       "                     scoring=None, solver='lbfgs', tol=0.0001, verbose=0)"
      ]
     },
     "execution_count": 17,
     "metadata": {},
     "output_type": "execute_result"
    }
   ],
   "source": [
    "logregcv = LogisticRegressionCV(Cs=[100000,200000,300000], cv=3) \n",
    "logregcv.fit(X_train,y_train)"
   ]
  },
  {
   "cell_type": "code",
   "execution_count": 18,
   "metadata": {},
   "outputs": [
    {
     "name": "stdout",
     "output_type": "stream",
     "text": [
      "train_score=0.755\n",
      "test_score =0.793\n",
      "\n"
     ]
    }
   ],
   "source": [
    "acc_train_cv = logregcv.score(X_train, y_train)\n",
    "acc_test_cv = logregcv.score(X_test, y_test)\n",
    "print(\"train_score=%.3f\\ntest_score =%.3f\\n\" % (acc_train_cv, acc_test_cv))"
   ]
  },
  {
   "cell_type": "code",
   "execution_count": 19,
   "metadata": {},
   "outputs": [
    {
     "name": "stdout",
     "output_type": "stream",
     "text": [
      "['happy' 'sad']\n",
      "[100000]\n",
      "[0.12172614]\n",
      "[[-0.19997531  0.2650444  -0.18158248  0.00438091 -0.52949926  0.13030392\n",
      "  -1.22729322]]\n"
     ]
    }
   ],
   "source": [
    "print(logregcv.classes_)\n",
    "print(logregcv.C_)\n",
    "print(logregcv.intercept_)\n",
    "print(logregcv.coef_)"
   ]
  },
  {
   "cell_type": "code",
   "execution_count": null,
   "metadata": {},
   "outputs": [],
   "source": []
  }
 ],
 "metadata": {
  "kernelspec": {
   "display_name": "Python [conda env:metis] *",
   "language": "python",
   "name": "conda-env-metis-py"
  },
  "language_info": {
   "codemirror_mode": {
    "name": "ipython",
    "version": 3
   },
   "file_extension": ".py",
   "mimetype": "text/x-python",
   "name": "python",
   "nbconvert_exporter": "python",
   "pygments_lexer": "ipython3",
   "version": "3.7.3"
  }
 },
 "nbformat": 4,
 "nbformat_minor": 2
}
