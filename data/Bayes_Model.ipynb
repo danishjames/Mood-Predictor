{
 "cells": [
  {
   "cell_type": "code",
   "execution_count": 1,
   "metadata": {},
   "outputs": [],
   "source": [
    "import numpy as np\n",
    "import matplotlib.pyplot as plt\n",
    "from matplotlib import pylab as pl\n",
    "import pandas as pd\n",
    "import seaborn as sns\n",
    "\n",
    "from sklearn.preprocessing import StandardScaler\n",
    "from sklearn.model_selection import train_test_split, cross_val_score\n",
    "from sklearn.naive_bayes import BernoulliNB, MultinomialNB, GaussianNB\n",
    "from sklearn.dummy import DummyClassifier"
   ]
  },
  {
   "cell_type": "code",
   "execution_count": 16,
   "metadata": {},
   "outputs": [
    {
     "data": {
      "text/html": [
       "<div>\n",
       "<style scoped>\n",
       "    .dataframe tbody tr th:only-of-type {\n",
       "        vertical-align: middle;\n",
       "    }\n",
       "\n",
       "    .dataframe tbody tr th {\n",
       "        vertical-align: top;\n",
       "    }\n",
       "\n",
       "    .dataframe thead th {\n",
       "        text-align: right;\n",
       "    }\n",
       "</style>\n",
       "<table border=\"1\" class=\"dataframe\">\n",
       "  <thead>\n",
       "    <tr style=\"text-align: right;\">\n",
       "      <th></th>\n",
       "      <th>Artists</th>\n",
       "      <th>Moods</th>\n",
       "      <th>Names</th>\n",
       "      <th>Track IDs</th>\n",
       "      <th>Loudness</th>\n",
       "      <th>Instrumentalness</th>\n",
       "      <th>Modality</th>\n",
       "      <th>Speechiness</th>\n",
       "      <th>Energy</th>\n",
       "      <th>Tempo</th>\n",
       "      <th>Valence</th>\n",
       "    </tr>\n",
       "  </thead>\n",
       "  <tbody>\n",
       "    <tr>\n",
       "      <th>0</th>\n",
       "      <td>Lauv</td>\n",
       "      <td>0</td>\n",
       "      <td>fuck, i'm lonely (with Anne-Marie) - from “13 ...</td>\n",
       "      <td>322tcqPhma7F6hfCeLisx0</td>\n",
       "      <td>-6.460</td>\n",
       "      <td>0.000000</td>\n",
       "      <td>1</td>\n",
       "      <td>0.0683</td>\n",
       "      <td>0.558</td>\n",
       "      <td>95.016</td>\n",
       "      <td>0.678</td>\n",
       "    </tr>\n",
       "    <tr>\n",
       "      <th>1</th>\n",
       "      <td>Sabrina Carpenter</td>\n",
       "      <td>0</td>\n",
       "      <td>In My Bed</td>\n",
       "      <td>2o0KMNhcw5KO7CuslvR4Xs</td>\n",
       "      <td>-6.024</td>\n",
       "      <td>0.002290</td>\n",
       "      <td>0</td>\n",
       "      <td>0.0950</td>\n",
       "      <td>0.385</td>\n",
       "      <td>109.046</td>\n",
       "      <td>0.666</td>\n",
       "    </tr>\n",
       "    <tr>\n",
       "      <th>2</th>\n",
       "      <td>Bea Miller</td>\n",
       "      <td>0</td>\n",
       "      <td>feel something</td>\n",
       "      <td>7JDWhC422Gtk1Bq0mL3OTC</td>\n",
       "      <td>-8.914</td>\n",
       "      <td>0.000156</td>\n",
       "      <td>1</td>\n",
       "      <td>0.0707</td>\n",
       "      <td>0.415</td>\n",
       "      <td>136.029</td>\n",
       "      <td>0.156</td>\n",
       "    </tr>\n",
       "    <tr>\n",
       "      <th>3</th>\n",
       "      <td>MUNA</td>\n",
       "      <td>0</td>\n",
       "      <td>Who</td>\n",
       "      <td>0qTBo7ExHHGI7RLCk3CwDS</td>\n",
       "      <td>-5.770</td>\n",
       "      <td>0.000272</td>\n",
       "      <td>0</td>\n",
       "      <td>0.0514</td>\n",
       "      <td>0.667</td>\n",
       "      <td>150.093</td>\n",
       "      <td>0.219</td>\n",
       "    </tr>\n",
       "    <tr>\n",
       "      <th>4</th>\n",
       "      <td>Why Don't We</td>\n",
       "      <td>0</td>\n",
       "      <td>8 Letters</td>\n",
       "      <td>4zRZAmBQP8vhNPf9i9opXt</td>\n",
       "      <td>-5.702</td>\n",
       "      <td>0.000000</td>\n",
       "      <td>0</td>\n",
       "      <td>0.0310</td>\n",
       "      <td>0.478</td>\n",
       "      <td>88.979</td>\n",
       "      <td>0.255</td>\n",
       "    </tr>\n",
       "  </tbody>\n",
       "</table>\n",
       "</div>"
      ],
      "text/plain": [
       "             Artists  Moods  \\\n",
       "0               Lauv      0   \n",
       "1  Sabrina Carpenter      0   \n",
       "2         Bea Miller      0   \n",
       "3               MUNA      0   \n",
       "4       Why Don't We      0   \n",
       "\n",
       "                                               Names               Track IDs  \\\n",
       "0  fuck, i'm lonely (with Anne-Marie) - from “13 ...  322tcqPhma7F6hfCeLisx0   \n",
       "1                                          In My Bed  2o0KMNhcw5KO7CuslvR4Xs   \n",
       "2                                     feel something  7JDWhC422Gtk1Bq0mL3OTC   \n",
       "3                                                Who  0qTBo7ExHHGI7RLCk3CwDS   \n",
       "4                                          8 Letters  4zRZAmBQP8vhNPf9i9opXt   \n",
       "\n",
       "   Loudness  Instrumentalness  Modality  Speechiness  Energy    Tempo  Valence  \n",
       "0    -6.460          0.000000         1       0.0683   0.558   95.016    0.678  \n",
       "1    -6.024          0.002290         0       0.0950   0.385  109.046    0.666  \n",
       "2    -8.914          0.000156         1       0.0707   0.415  136.029    0.156  \n",
       "3    -5.770          0.000272         0       0.0514   0.667  150.093    0.219  \n",
       "4    -5.702          0.000000         0       0.0310   0.478   88.979    0.255  "
      ]
     },
     "execution_count": 16,
     "metadata": {},
     "output_type": "execute_result"
    }
   ],
   "source": [
    "df = pd.read_csv('track_data.csv', index_col=0)\n",
    "\n",
    "df.drop_duplicates(subset=['Track IDs'], keep='first', inplace=True)\n",
    "\n",
    "df['Moods'] = (df['Moods'] != 'sad').astype(int)\n",
    "\n",
    "df.head()"
   ]
  },
  {
   "cell_type": "code",
   "execution_count": 21,
   "metadata": {},
   "outputs": [
    {
     "data": {
      "text/plain": [
       "0    230\n",
       "1    226\n",
       "Name: Moods, dtype: int64"
      ]
     },
     "execution_count": 21,
     "metadata": {},
     "output_type": "execute_result"
    }
   ],
   "source": [
    "df.Moods.value_counts()"
   ]
  },
  {
   "cell_type": "code",
   "execution_count": 26,
   "metadata": {},
   "outputs": [],
   "source": [
    "X = df.iloc[:, 4:]\n",
    "y = df.iloc[:, 1]\n",
    "\n",
    "X_train, X_test, y_train, y_test = train_test_split(X, y, test_size=0.20)"
   ]
  },
  {
   "cell_type": "code",
   "execution_count": 39,
   "metadata": {},
   "outputs": [
    {
     "data": {
      "text/plain": [
       "0.717391304347826"
      ]
     },
     "execution_count": 39,
     "metadata": {},
     "output_type": "execute_result"
    }
   ],
   "source": [
    "nb = GaussianNB()\n",
    "nb.fit(X_train, y_train)\n",
    "nb.score(X_test, y_test)"
   ]
  },
  {
   "cell_type": "code",
   "execution_count": 35,
   "metadata": {},
   "outputs": [
    {
     "data": {
      "text/plain": [
       "array([[-7.04865363e+00,  4.89293726e-02,  6.48044693e-01,\n",
       "         6.92955307e-02,  6.00512849e-01,  1.19510726e+02,\n",
       "         3.29624581e-01],\n",
       "       [-5.45018919e+00,  5.43238400e-03,  7.18918919e-01,\n",
       "         7.03724324e-02,  7.31064865e-01,  1.17017681e+02,\n",
       "         5.75567568e-01]])"
      ]
     },
     "execution_count": 35,
     "metadata": {},
     "output_type": "execute_result"
    }
   ],
   "source": [
    "nb.theta_"
   ]
  },
  {
   "cell_type": "code",
   "execution_count": 36,
   "metadata": {},
   "outputs": [
    {
     "data": {
      "text/plain": [
       "array([[ 2.83086726,  0.16628672,  0.47758079,  0.06557563,  0.19474333,\n",
       "        26.39409417,  0.17823676],\n",
       "       [ 1.73591336,  0.06151427,  0.4495277 ,  0.06563476,  0.12812015,\n",
       "        24.40164892,  0.20295356]])"
      ]
     },
     "execution_count": 36,
     "metadata": {},
     "output_type": "execute_result"
    }
   ],
   "source": [
    "np.sqrt(nb.sigma_)"
   ]
  },
  {
   "cell_type": "code",
   "execution_count": 32,
   "metadata": {},
   "outputs": [
    {
     "name": "stderr",
     "output_type": "stream",
     "text": [
      "'c' argument looks like a single numeric RGB or RGBA sequence, which should be avoided as value-mapping will have precedence in case its length matches with 'x' & 'y'.  Please use a 2-D array with a single row if you really want to specify the same RGB or RGBA value for all points.\n",
      "'c' argument looks like a single numeric RGB or RGBA sequence, which should be avoided as value-mapping will have precedence in case its length matches with 'x' & 'y'.  Please use a 2-D array with a single row if you really want to specify the same RGB or RGBA value for all points.\n"
     ]
    },
    {
     "data": {
      "image/png": "[encoded data removed]",
      "text/plain": [
       "<Figure size 900x600 with 1 Axes>"
      ]
     },
     "metadata": {
      "needs_background": "light"
     },
     "output_type": "display_data"
    }
   ],
   "source": [
    "def scatter_plot_data(data):\n",
    "    plt.figure(dpi=150)\n",
    "    for ix, label in enumerate(['Sad','Happy']):\n",
    "        new_df = df[df['Moods']==ix]\n",
    "        plt.scatter(new_df['Tempo'], new_df['Energy'],c=plt.cm.jet(ix/0.5), alpha=0.4, label=label, s=5)\n",
    "    plt.xlabel(\"Tempo\")\n",
    "    plt.ylabel(\"Energy\")\n",
    "    plt.legend(loc=\"upper left\");\n",
    "\n",
    "scatter_plot_data(df)"
   ]
  },
  {
   "cell_type": "code",
   "execution_count": null,
   "metadata": {},
   "outputs": [],
   "source": []
  }
 ],
 "metadata": {
  "kernelspec": {
   "display_name": "Python [conda env:metis] *",
   "language": "python",
   "name": "conda-env-metis-py"
  },
  "language_info": {
   "codemirror_mode": {
    "name": "ipython",
    "version": 3
   },
   "file_extension": ".py",
   "mimetype": "text/x-python",
   "name": "python",
   "nbconvert_exporter": "python",
   "pygments_lexer": "ipython3",
   "version": "3.7.3"
  }
 },
 "nbformat": 4,
 "nbformat_minor": 2
}
