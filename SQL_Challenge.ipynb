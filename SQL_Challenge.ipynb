{
 "cells": [
  {
   "cell_type": "markdown",
   "metadata": {
    "collapsed": true
   },
   "source": [
    "# Challenge Set 9\n",
    "## Part I: W3Schools SQL Lab \n",
    "\n",
    "*Introductory level SQL*\n",
    "\n",
    "--\n",
    "\n",
    "This challenge uses the [W3Schools SQL playground](http://www.w3schools.com/sql/trysql.asp?filename=trysql_select_all). Please add solutions to this markdown file and submit.\n",
    "\n",
    "1. Which customers are from the UK?\n",
    "\n",
    "```SQL\n",
    "SELECT * FROM Customers WHERE Country = \"UK\";\n",
    "```\n",
    "\n",
    "2. What is the name of the customer who has the most orders?\n",
    "\n",
    "```SQL\n",
    "SELECT CustomerID, COUNT(*) AS Mode FROM Orders GROUP BY CustomerID ORDER BY Mode DESC Limit 1;\n",
    "```\n",
    "\n",
    "Then\n",
    "\n",
    "```SQL\n",
    "SELECT CustomerName FROM Customers WHERE CustomerID = 20;\n",
    "```\n",
    "\n",
    "3. Which supplier has the highest average product price?\n",
    "\n",
    "```SQL\n",
    "SELECT SupplierID, AVG(Price) AS Average FROM Products GROUP BY SupplierID ORDER BY Average DESC Limit 1;\n",
    "```\n",
    "\n",
    "4. How many different countries are all the customers from? (*Hint:* consider [DISTINCT](http://www.w3schools.com/sql/sql_distinct.asp).)\n",
    "\n",
    "```SQL\n",
    "SELECT DISTINCT Country FROM Customers;\n",
    "```\n",
    "\n",
    "5. What category appears in the most orders?\n",
    "\n",
    "```SQL\n",
    "SELECT OrderDetails.ProductID, Products.ProductID, SUM(OrderDetails.Quantity) AS Sum FROM OrderDetails INNER JOIN Products ON OrderDetails.ProductID=Products.ProductID GROUP BY OrderDetails.ProductID ORDER BY Sum DESC Limit 1;\n",
    "```\n",
    "\n",
    "6. What was the total cost for each order?\n",
    "\n",
    "```SQL\n",
    "SELECT DISTINCT OrderDetails.OrderID, OrderDetails.ProductID, Products.Price, OrderDetails.Quantity, SUM(ROUND(Products.Price*OrderDetails.Quantity, 2)) AS Total FROM Products INNER JOIN OrderDetails on Products.ProductID=OrderDetails.ProductID GROUP BY OrderID;\n",
    "```\n",
    "\n",
    "7. Which employee made the most sales (by total price)?\n",
    "\n",
    "```SQL\n",
    "SELECT DISTINCT OrderDetails.OrderID, OrderDetails.ProductID, Orders.EmployeeID, Products.Price, OrderDetails.Quantity, ROUND(Products.Price*OrderDetails.Quantity, 2) AS Total FROM Products INNER JOIN OrderDetails ON Products.ProductID=OrderDetails.ProductID INNER JOIN Orders ON Orders.OrderID=OrderDetails.OrderID GROUP BY Orders.EmployeeID ORDER BY Total DESC Limit 1;\n",
    "```\n",
    "\n",
    "8. Which employees have BS degrees? (*Hint:* look at the [LIKE](http://www.w3schools.com/sql/sql_like.asp) operator.)\n",
    "\n",
    "```SQL\n",
    "SELECT * FROM Employees WHERE Notes LIKE '%BS%'\n",
    "```\n",
    "\n",
    "9. Which supplier of three or more products has the highest average product price? (*Hint:* look at the [HAVING](http://www.w3schools.com/sql/sql_having.asp) operator.)\n",
    "\n",
    "```SQL\n",
    "SELECT SupplierID, COUNT(ProductName) AS ProdCount, AVG(Price) AS Average FROM Products GROUP BY SupplierID HAVING ProdCount >= 3 ORDER BY Average DESC Limit 1;\n",
    "```"
   ]
  },
  {
   "cell_type": "markdown",
   "metadata": {},
   "source": [
    "# Challenge Set 9\n",
    "## Part II: Baseball Data\n",
    "\n",
    "*Introductory - Intermediate level SQL*\n",
    "\n",
    "--\n",
    "\n",
    "Please complete this exercise via SQLalchemy and Jupyter notebook.\n",
    "\n",
    "We will be working with the Lahman baseball data we uploaded to your AWS instance in class. \n",
    "\n",
    "\n",
    "1. What was the total spent on salaries by each team, each year?\n",
    "\n",
    "2. What is the first and last year played for each player? *Hint:* Create a new table from 'Fielding.csv'.\n",
    "\n",
    "3. Who has played the most all star games?\n",
    "\n",
    "4. Which school has generated the most distinct players? *Hint:* Create new table from 'CollegePlaying.csv'.\n",
    "\n",
    "5. Which players have the longest career? Assume that the `debut` and `finalGame` columns comprise the start and end, respectively, of a player's career. *Hint:* Create a new table from 'Master.csv'. Also note that strings can be converted to dates using the [`DATE`](https://wiki.postgresql.org/wiki/Working_with_Dates_and_Times_in_PostgreSQL#WORKING_with_DATETIME.2C_DATE.2C_and_INTERVAL_VALUES) function and can then be subtracted from each other yielding their difference in days.\n",
    "\n",
    "6. What is the distribution of debut months? *Hint:* Look at the `DATE` and [`EXTRACT`](https://www.postgresql.org/docs/current/static/functions-datetime.html#FUNCTIONS-DATETIME-EXTRACT) functions.\n",
    "\n",
    "7. What is the effect of table join order on mean salary for the players listed in the main (master) table? *Hint:* Perform two different queries, one that joins on playerID in the salary table and other that joins on the same column in the master table. You will have to use left joins for each since right joins are not currently supported with SQLalchemy."
   ]
  },
  {
   "cell_type": "code",
   "execution_count": 2,
   "metadata": {},
   "outputs": [],
   "source": [
    "from psycopg2 import connect\n",
    "from psycopg2.extensions import ISOLATION_LEVEL_AUTOCOMMIT\n",
    "\n",
    "from sqlalchemy import create_engine"
   ]
  },
  {
   "cell_type": "code",
   "execution_count": 3,
   "metadata": {},
   "outputs": [],
   "source": [
    "params = {\n",
    "    'host': '', #your Amazon IP\n",
    "    'user': 'ubuntu', \n",
    "    'port': 5432\n",
    "}"
   ]
  },
  {
   "cell_type": "code",
   "execution_count": 16,
   "metadata": {},
   "outputs": [],
   "source": [
    "connection = connect(**params, dbname='baseball')\n",
    "cursor = connection.cursor()"
   ]
  },
  {
   "cell_type": "code",
   "execution_count": null,
   "metadata": {},
   "outputs": [],
   "source": [
    "# Question 1 Solution\n",
    "\n",
    "query1 = \"\"\"\n",
    "SELECT teamid, yearid, sum(salary) as sum FROM salaries GROUP BY teamid, yearid ORDER BY yearid, sum DESC;\n",
    "\"\"\"\n",
    "cursor.execute(query1)\n",
    "cursor.fetchall()"
   ]
  },
  {
   "cell_type": "code",
   "execution_count": null,
   "metadata": {},
   "outputs": [],
   "source": [
    "# Question 2 Solution\n",
    "query2 = \"\"\"\n",
    "SELECT playerid, MIN(yearID) as start, MAX(yearID) as end FROM fielding GROUP BY playerid;\n",
    "\"\"\"\n",
    "cursor.execute(query2)\n",
    "cursor.fetchall()"
   ]
  },
  {
   "cell_type": "code",
   "execution_count": 17,
   "metadata": {},
   "outputs": [
    {
     "data": {
      "text/plain": [
       "[('aaronha01', 25)]"
      ]
     },
     "execution_count": 17,
     "metadata": {},
     "output_type": "execute_result"
    }
   ],
   "source": [
    "# Question 3 Solution\n",
    "query3 = \"\"\"\n",
    "SELECT playerid, COUNT(playerid) as sum FROM allstarfull GROUP BY playerid ORDER BY sum DESC limit 1;\n",
    "\"\"\"\n",
    "cursor.execute(query3)\n",
    "cursor.fetchall()"
   ]
  },
  {
   "cell_type": "code",
   "execution_count": null,
   "metadata": {},
   "outputs": [],
   "source": [
    "# Question 4 Solution\n",
    "query4 = \"\"\"\n",
    "SELECT DISTINCT schoolID, COUNT(playerID) FROM schoolsplayers GROUP BY playerid ORDER BY count DESC limit 1;\n",
    "\"\"\"\n",
    "cursor.execute(query4)\n",
    "cursor.fetchall()"
   ]
  },
  {
   "cell_type": "code",
   "execution_count": null,
   "metadata": {},
   "outputs": [],
   "source": [
    "# Question 5 Solution\n",
    "\n",
    "query5 = \"\"\"\n",
    "SELECT playerid, (DATE(finalGame)-DATE(debut)) as career FROM master GROUP BY playerid ORDER BY career DESC;\n",
    "\"\"\"\n",
    "cursor.execute(query5)\n",
    "cursor.fetchall()"
   ]
  },
  {
   "cell_type": "code",
   "execution_count": null,
   "metadata": {},
   "outputs": [],
   "source": [
    "# Question 6 Solution\n",
    "\n",
    "query6 = \"\"\"\n",
    "SELECT playerid, EXTRACT(MONTH FROM DATE(debut)) as dm FROM master GROUP BY playerid ORDER BY dm DESC;\n",
    "\"\"\"\n",
    "cursor.execute(query6)\n",
    "cursor.fetchall()"
   ]
  },
  {
   "cell_type": "code",
   "execution_count": null,
   "metadata": {},
   "outputs": [],
   "source": [
    "# Question 7 Solution\n",
    "\n",
    "# Sorry I'm not sure I understand the question properly."
   ]
  }
 ],
 "metadata": {
  "kernelspec": {
   "display_name": "Python 3",
   "language": "python",
   "name": "python3"
  },
  "language_info": {
   "codemirror_mode": {
    "name": "ipython",
    "version": 3
   },
   "file_extension": ".py",
   "mimetype": "text/x-python",
   "name": "python",
   "nbconvert_exporter": "python",
   "pygments_lexer": "ipython3",
   "version": "3.7.3"
  }
 },
 "nbformat": 4,
 "nbformat_minor": 1
}
